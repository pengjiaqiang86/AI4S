{
 "cells": [
  {
   "cell_type": "markdown",
   "metadata": {},
   "source": [
    "## Save model in Pytorch"
   ]
  },
  {
   "cell_type": "code",
   "execution_count": 1,
   "metadata": {},
   "outputs": [],
   "source": [
    "# import python modules\n",
    "import torch\n",
    "\n",
    "\n",
    "def set_seeds(seeds):\n",
    "    torch.manual_seed(seeds)\n",
    "    torch.cuda.manual_seed(seeds)\n",
    "    torch.backends.cudnn.deterministic = True\n",
    "\n",
    "set_seeds(12)"
   ]
  },
  {
   "cell_type": "code",
   "execution_count": 2,
   "metadata": {},
   "outputs": [],
   "source": [
    "# define a model\n",
    "class MyModel(torch.nn.Module):\n",
    "    def __init__(self):\n",
    "        super(MyModel, self).__init__()\n",
    "        self.fc = torch.nn.Linear(10, 2)\n",
    "\n",
    "    def forward(self, x):\n",
    "        x = self.fc(x)\n",
    "        return x\n"
   ]
  },
  {
   "cell_type": "code",
   "execution_count": 6,
   "metadata": {},
   "outputs": [
    {
     "name": "stdout",
     "output_type": "stream",
     "text": [
      "tensor([[ 0.1844, -0.3004]], grad_fn=<AddmmBackward0>)\n",
      "tensor([[ 0.1844, -0.3004]], grad_fn=<AddmmBackward0>)\n"
     ]
    },
    {
     "name": "stderr",
     "output_type": "stream",
     "text": [
      "C:\\Users\\43757\\AppData\\Local\\Temp\\ipykernel_39236\\4080442247.py:11: FutureWarning: You are using `torch.load` with `weights_only=False` (the current default value), which uses the default pickle module implicitly. It is possible to construct malicious pickle data which will execute arbitrary code during unpickling (See https://github.com/pytorch/pytorch/blob/main/SECURITY.md#untrusted-models for more details). In a future release, the default value for `weights_only` will be flipped to `True`. This limits the functions that could be executed during unpickling. Arbitrary objects will no longer be allowed to be loaded via this mode unless they are explicitly allowlisted by the user via `torch.serialization.add_safe_globals`. We recommend you start setting `weights_only=True` for any use case where you don't have full control of the loaded file. Please open an issue on GitHub for any issues related to this experimental feature.\n",
      "  loaded_model = torch.load('assets/weights/model.pth')\n"
     ]
    }
   ],
   "source": [
    "# Save the whole model\n",
    "model = MyModel()\n",
    "\n",
    "x = torch.rand(1, 10)\n",
    "y1 = model(x)\n",
    "print(y1)\n",
    "\n",
    "torch.save(model, 'assets/weights/model.pth')\n",
    "\n",
    "# Load the whole model\n",
    "loaded_model = torch.load('assets/weights/model.pth')\n",
    "\n",
    "y2 = loaded_model(x)\n",
    "print(y2)"
   ]
  },
  {
   "cell_type": "code",
   "execution_count": 7,
   "metadata": {},
   "outputs": [
    {
     "name": "stdout",
     "output_type": "stream",
     "text": [
      "tensor([[-0.2779, -0.2586]], grad_fn=<AddmmBackward0>)\n",
      "tensor([[-0.2779, -0.2586]], grad_fn=<AddmmBackward0>)\n"
     ]
    },
    {
     "name": "stderr",
     "output_type": "stream",
     "text": [
      "C:\\Users\\43757\\AppData\\Local\\Temp\\ipykernel_39236\\3054238626.py:12: FutureWarning: You are using `torch.load` with `weights_only=False` (the current default value), which uses the default pickle module implicitly. It is possible to construct malicious pickle data which will execute arbitrary code during unpickling (See https://github.com/pytorch/pytorch/blob/main/SECURITY.md#untrusted-models for more details). In a future release, the default value for `weights_only` will be flipped to `True`. This limits the functions that could be executed during unpickling. Arbitrary objects will no longer be allowed to be loaded via this mode unless they are explicitly allowlisted by the user via `torch.serialization.add_safe_globals`. We recommend you start setting `weights_only=True` for any use case where you don't have full control of the loaded file. Please open an issue on GitHub for any issues related to this experimental feature.\n",
      "  loaded_model.load_state_dict(torch.load('assets/weights/model_params.pth'))\n"
     ]
    }
   ],
   "source": [
    "# Save the parameters only\n",
    "model = MyModel()\n",
    "\n",
    "x = torch.rand(1, 10)\n",
    "y1 = model(x)\n",
    "print(y1)\n",
    "\n",
    "torch.save(model.state_dict(), 'assets/weights/model_params.pth')\n",
    "\n",
    "# Load the parameters\n",
    "loaded_model = MyModel()\n",
    "loaded_model.load_state_dict(torch.load('assets/weights/model_params.pth'))\n",
    "\n",
    "y2 = loaded_model(x)\n",
    "print(y2)"
   ]
  },
  {
   "cell_type": "code",
   "execution_count": null,
   "metadata": {},
   "outputs": [],
   "source": []
  }
 ],
 "metadata": {
  "kernelspec": {
   "display_name": "yolov5",
   "language": "python",
   "name": "python3"
  },
  "language_info": {
   "codemirror_mode": {
    "name": "ipython",
    "version": 3
   },
   "file_extension": ".py",
   "mimetype": "text/x-python",
   "name": "python",
   "nbconvert_exporter": "python",
   "pygments_lexer": "ipython3",
   "version": "3.11.0"
  }
 },
 "nbformat": 4,
 "nbformat_minor": 2
}
