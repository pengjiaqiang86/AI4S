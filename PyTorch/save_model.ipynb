{
 "cells": [
  {
   "cell_type": "markdown",
   "metadata": {},
   "source": [
    "# Pytorch 保存模型"
   ]
  },
  {
   "cell_type": "code",
   "execution_count": 11,
   "metadata": {},
   "outputs": [],
   "source": [
    "# import python modules\n",
    "import torch\n",
    "\n",
    "\n",
    "def set_seeds(seeds):\n",
    "    torch.manual_seed(seeds)\n",
    "    torch.cuda.manual_seed(seeds)\n",
    "    torch.backends.cudnn.deterministic = True\n",
    "\n",
    "set_seeds(12)"
   ]
  },
  {
   "cell_type": "code",
   "execution_count": 12,
   "metadata": {},
   "outputs": [],
   "source": [
    "# define a model\n",
    "class MyModel(torch.nn.Module):\n",
    "    def __init__(self):\n",
    "        super(MyModel, self).__init__()\n",
    "        self.fc = torch.nn.Linear(10, 2)\n",
    "\n",
    "    def forward(self, x):\n",
    "        x = self.fc(x)\n",
    "        return x\n"
   ]
  },
  {
   "cell_type": "code",
   "execution_count": 17,
   "metadata": {},
   "outputs": [
    {
     "name": "stdout",
     "output_type": "stream",
     "text": [
      "tensor([[-0.2554, -0.0882]], grad_fn=<AddmmBackward0>)\n",
      "tensor([[-0.2554, -0.0882]], grad_fn=<AddmmBackward0>)\n"
     ]
    }
   ],
   "source": [
    "# 保存整个模型\n",
    "model = MyModel()\n",
    "\n",
    "x = torch.rand(1, 10)\n",
    "y1 = model(x)\n",
    "print(y1)\n",
    "\n",
    "torch.save(model, 'model.pth')\n",
    "\n",
    "# 加载整个模型\n",
    "loaded_model = torch.load('model.pth')\n",
    "\n",
    "y2 = loaded_model(x)\n",
    "print(y2)"
   ]
  },
  {
   "cell_type": "code",
   "execution_count": 20,
   "metadata": {},
   "outputs": [
    {
     "name": "stdout",
     "output_type": "stream",
     "text": [
      "tensor([[ 0.2389, -0.9291]], grad_fn=<AddmmBackward0>)\n",
      "tensor([[ 0.2389, -0.9291]], grad_fn=<AddmmBackward0>)\n"
     ]
    }
   ],
   "source": [
    "# 只保存模型的参数\n",
    "model = MyModel()\n",
    "\n",
    "x = torch.rand(1, 10)\n",
    "y1 = model(x)\n",
    "print(y1)\n",
    "\n",
    "torch.save(model.state_dict(), 'model_params.pth')\n",
    "\n",
    "# 加载模型的参数\n",
    "loaded_model = MyModel()\n",
    "loaded_model.load_state_dict(torch.load('model_params.pth'))\n",
    "\n",
    "y2 = loaded_model(x)\n",
    "print(y2)"
   ]
  },
  {
   "cell_type": "code",
   "execution_count": null,
   "metadata": {},
   "outputs": [],
   "source": []
  }
 ],
 "metadata": {
  "kernelspec": {
   "display_name": "yolov5",
   "language": "python",
   "name": "python3"
  },
  "language_info": {
   "codemirror_mode": {
    "name": "ipython",
    "version": 3
   },
   "file_extension": ".py",
   "mimetype": "text/x-python",
   "name": "python",
   "nbconvert_exporter": "python",
   "pygments_lexer": "ipython3",
   "version": "3.8.13"
  }
 },
 "nbformat": 4,
 "nbformat_minor": 2
}
