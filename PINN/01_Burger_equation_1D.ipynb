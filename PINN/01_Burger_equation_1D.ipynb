{
 "cells": [
  {
   "cell_type": "markdown",
   "metadata": {},
   "source": [
    "# Burger Equation"
   ]
  },
  {
   "cell_type": "markdown",
   "metadata": {},
   "source": [
    "1D Burger Equation is defined as:\n",
    "\n",
    "$$\n",
    "\\begin{align}\n",
    "u_t + uu_x &= \\mu u_{xx}, x \\in \\left [ -1, 1 \\right ], t > 0 \\\\\n",
    "u(x, 0) &= -sin(\\pi x) \\\\\n",
    "u(-1, t) &= u(1, t) = 0\n",
    "\\end{align}\n",
    "$$\n",
    "\n",
    "and $ \\mu = 0.01 / \\pi $"
   ]
  },
  {
   "cell_type": "code",
   "execution_count": 1,
   "metadata": {},
   "outputs": [],
   "source": [
    "# import necessary python modules\n",
    "import numpy as np\n",
    "import torch\n",
    "import torch.nn as nn\n",
    "import torch.optim as optim"
   ]
  },
  {
   "cell_type": "code",
   "execution_count": 2,
   "metadata": {},
   "outputs": [],
   "source": [
    "# define nn\n",
    "class PINN(nn.Module):\n",
    "    def __init__(self):\n",
    "        super(PINN, self).__init__()\n",
    "\n",
    "        self.fc1 = nn.Linear(2, 50)\n",
    "        self.fc2 = nn.Linear(50, 50)\n",
    "        self.fc3 = nn.Linear(50, 1)\n",
    "\n",
    "    def forward(self, inputs):\n",
    "        x = torch.tanh(self.fc1(inputs))\n",
    "        x = torch.tanh(self.fc2(x))\n",
    "        x = self.fc3(x)\n",
    "        return x"
   ]
  },
  {
   "cell_type": "code",
   "execution_count": 3,
   "metadata": {},
   "outputs": [],
   "source": [
    "# define loss function\n",
    "\n",
    "mse_loss = nn.MSELoss()\n",
    "\n",
    "# gradient\n",
    "def gradient(u, x, order=1):\n",
    "    if order == 1:\n",
    "        return torch.autograd.grad(u, x, grad_outputs=torch.ones_like(u), create_graph=True, only_inputs=True)[0]\n",
    "    else:\n",
    "        return gradient(gradient(u, x), x, order-1)\n",
    "\n",
    "def loss_pde(model, n, device):\n",
    "    \"\"\"\n",
    "    \n",
    "    \"\"\"\n",
    "    x = torch.linspace(-1, 1, n, requires_grad=True, device=device)\n",
    "    t = torch.linspace(0, 1, n, requires_grad=True, device=device)\n",
    "\n",
    "    xm, tm = torch.meshgrid(x, t)\n",
    "    xm = xm.reshape(-1, 1) # xm.requires_grad = True\n",
    "    tm = tm.reshape(-1, 1) # tm.requires_grad = True\n",
    "\n",
    "    xt = torch.concat([xm, tm], dim = 1)\n",
    "    u = model(xt)\n",
    "\n",
    "    mu = 0.01 / torch.pi\n",
    "\n",
    "    pde = gradient(u, t, 1) + u * gradient(u, x, 1) - mu * gradient(u, x, 2)\n",
    "\n",
    "    cond = torch.zeros_like(u, requires_grad=True, device=device)\n",
    "    cond = cond.reshape(-1, 1)\n",
    "    \n",
    "    return mse_loss(pde, cond)\n",
    "\n",
    "\n",
    "def loss_bc1(model, n, device):\n",
    "    \"\"\"\n",
    "    \n",
    "    \"\"\"\n",
    "\n",
    "    x = torch.randn(n, 1, requires_grad=True).to(device=device) * 2.0 - 1.0\n",
    "    t = torch.zeros_like(x, requires_grad=True).to(device=device)\n",
    "\n",
    "    u = model(torch.concat([x, t], dim = 1))\n",
    "    cond = -torch.sin(torch.pi * x)\n",
    "\n",
    "    return mse_loss(u, cond)\n",
    "\n",
    "def loss_bc2(model, n, device):\n",
    "    \"\"\"\n",
    "    \n",
    "    \"\"\"\n",
    "\n",
    "    t = torch.randn(n, 1, requires_grad=True).to(device=device)\n",
    "    x = -torch.ones_like(t, requires_grad=True).to(device=device)\n",
    "\n",
    "    u = model(torch.concat([x, t], dim = 1))\n",
    "    cond = torch.zeros_like(t)\n",
    "\n",
    "    return mse_loss(u, cond)\n",
    "\n",
    "def loss_bc3(model, n, device):\n",
    "    \"\"\"\n",
    "    \n",
    "    \"\"\"\n",
    "\n",
    "    t = torch.randn(n, 1, requires_grad=True).to(device=device)\n",
    "    x = torch.ones_like(t, requires_grad=True).to(device=device)\n",
    "\n",
    "    u = model(torch.concat([x, t], dim = 1))\n",
    "    cond = torch.zeros_like(t)\n",
    "\n",
    "    return mse_loss(u, cond)"
   ]
  },
  {
   "cell_type": "code",
   "execution_count": 4,
   "metadata": {},
   "outputs": [
    {
     "name": "stderr",
     "output_type": "stream",
     "text": [
      "C:\\Users\\Administrator\\AppData\\Roaming\\Python\\Python311\\site-packages\\torch\\functional.py:507: UserWarning: torch.meshgrid: in an upcoming release, it will be required to pass the indexing argument. (Triggered internally at ..\\aten\\src\\ATen\\native\\TensorShape.cpp:3550.)\n",
      "  return _VF.meshgrid(tensors, **kwargs)  # type: ignore[attr-defined]\n",
      "C:\\Users\\Administrator\\AppData\\Roaming\\Python\\Python311\\site-packages\\torch\\nn\\modules\\loss.py:535: UserWarning: Using a target size (torch.Size([10000, 1])) that is different to the input size (torch.Size([10000, 100])). This will likely lead to incorrect results due to broadcasting. Please ensure they have the same size.\n",
      "  return F.mse_loss(input, target, reduction=self.reduction)\n"
     ]
    },
    {
     "name": "stdout",
     "output_type": "stream",
     "text": [
      "Epoch 0, Loss: 18.506742477416992\n",
      "Epoch 100, Loss: 0.5739189982414246\n",
      "Epoch 200, Loss: 0.5815269947052002\n",
      "Epoch 300, Loss: 0.5343660712242126\n",
      "Epoch 400, Loss: 0.5187892317771912\n"
     ]
    }
   ],
   "source": [
    "# set training parameters\n",
    "num_epochs = 10000\n",
    "device = \"cuda:0\" if torch.cuda.is_available() else \"cpu\"\n",
    "\n",
    "# record loss\n",
    "loss_list = []\n",
    "best_loss = 1.0E10\n",
    "\n",
    "# start training\n",
    "model = PINN().to(device)\n",
    "optimizer = optim.Adam(model.parameters(), lr=0.001)\n",
    "\n",
    "for epoch in range(num_epochs):\n",
    "    optimizer.zero_grad()\n",
    "\n",
    "    loss = loss_pde(model, 100, device) + \\\n",
    "           loss_bc1(model, 100, device) + \\\n",
    "           loss_bc2(model, 100, device) + \\\n",
    "           loss_bc3(model, 100, device)\n",
    "\n",
    "    loss.backward()\n",
    "    optimizer.step()\n",
    "\n",
    "    if epoch % 100 == 0:\n",
    "        print(f'Epoch {epoch}, Loss: {loss.item()}')\n",
    "\n",
    "    # save model\n",
    "    loss_list.append(loss.item()) # record loss\n",
    "    if loss.item() < best_loss:\n",
    "        best_loss = loss.item()\n",
    "        torch.save(model.state_dict(), \"./assets/01_Burger_equation_1D_best.pth\")\n"
   ]
  },
  {
   "cell_type": "code",
   "execution_count": 5,
   "metadata": {},
   "outputs": [],
   "source": [
    "from matplotlib import pyplot as plt"
   ]
  },
  {
   "cell_type": "code",
   "execution_count": 6,
   "metadata": {},
   "outputs": [
    {
     "data": {
      "text/plain": [
       "[<matplotlib.lines.Line2D at 0x172ba4f3f90>]"
      ]
     },
     "execution_count": 6,
     "metadata": {},
     "output_type": "execute_result"
    },
    {
     "data": {
      "image/png": "[encoded data removed]",
      "text/plain": [
       "<Figure size 640x480 with 1 Axes>"
      ]
     },
     "metadata": {},
     "output_type": "display_data"
    }
   ],
   "source": [
    "plt.plot(loss_list)"
   ]
  },
  {
   "cell_type": "markdown",
   "metadata": {},
   "source": [
    "## References\n",
    "\n",
    "[1] [深度学习求解微分方程系列二：PINN求解burger方程](https://zhuanlan.zhihu.com/p/580523274)\n",
    "[2] [浅析Burgers 方程](https://zhuanlan.zhihu.com/p/339649042)"
   ]
  },
  {
   "cell_type": "markdown",
   "metadata": {},
   "source": []
  },
  {
   "cell_type": "code",
   "execution_count": null,
   "metadata": {},
   "outputs": [],
   "source": []
  }
 ],
 "metadata": {
  "kernelspec": {
   "display_name": "yolov5",
   "language": "python",
   "name": "python3"
  },
  "language_info": {
   "codemirror_mode": {
    "name": "ipython",
    "version": 3
   },
   "file_extension": ".py",
   "mimetype": "text/x-python",
   "name": "python",
   "nbconvert_exporter": "python",
   "pygments_lexer": "ipython3",
   "version": "3.11.7"
  }
 },
 "nbformat": 4,
 "nbformat_minor": 2
}
